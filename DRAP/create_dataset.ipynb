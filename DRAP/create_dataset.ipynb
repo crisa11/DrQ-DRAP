{
 "cells": [
  {
   "cell_type": "markdown",
   "metadata": {},
   "source": [
    "Note: this notebook was runned on Colab, because the mjcf of dm_control needs Nvidia GPU"
   ]
  },
  {
   "cell_type": "code",
   "execution_count": null,
   "metadata": {
    "cellView": "form",
    "colab": {
     "base_uri": "https://localhost:8080/"
    },
    "executionInfo": {
     "elapsed": 21503,
     "status": "ok",
     "timestamp": 1734286797649,
     "user": {
      "displayName": "Stefano D'Urso",
      "userId": "05929609238362490359"
     },
     "user_tz": -60
    },
    "id": "SFgL_od8QAA0",
    "outputId": "ae4d183b-66ef-456b-d2cf-e608390bb170"
   },
   "outputs": [],
   "source": [
    "#@title Run to install MuJoCo and `dm_control`\n",
    "import distutils.util\n",
    "import os\n",
    "import subprocess\n",
    "if subprocess.run('nvidia-smi').returncode:\n",
    "  raise RuntimeError(\n",
    "      'Cannot communicate with GPU. '\n",
    "      'Make sure you are using a GPU Colab runtime. '\n",
    "      'Go to the Runtime menu and select Choose runtime type.')\n",
    "\n",
    "# Add an ICD config so that glvnd can pick up the Nvidia EGL driver.\n",
    "# This is usually installed as part of an Nvidia driver package, but the Colab\n",
    "# kernel doesn't install its driver via APT, and as a result the ICD is missing.\n",
    "# (https://github.com/NVIDIA/libglvnd/blob/master/src/EGL/icd_enumeration.md)\n",
    "NVIDIA_ICD_CONFIG_PATH = '/usr/share/glvnd/egl_vendor.d/10_nvidia.json'\n",
    "if not os.path.exists(NVIDIA_ICD_CONFIG_PATH):\n",
    "  with open(NVIDIA_ICD_CONFIG_PATH, 'w') as f:\n",
    "    f.write(\"\"\"{\n",
    "    \"file_format_version\" : \"1.0.0\",\n",
    "    \"ICD\" : {\n",
    "        \"library_path\" : \"libEGL_nvidia.so.0\"\n",
    "    }\n",
    "}\n",
    "\"\"\")\n",
    "\n",
    "print('Installing dm_control...')\n",
    "!pip install -q dm_control>=1.0.26\n",
    "\n",
    "# Configure dm_control to use the EGL rendering backend (requires GPU)\n",
    "%env MUJOCO_GL=egl\n",
    "\n",
    "print('Checking that the dm_control installation succeeded...')\n",
    "try:\n",
    "  from dm_control import suite\n",
    "  env = suite.load('cartpole', 'swingup')\n",
    "  pixels = env.physics.render()\n",
    "except Exception as e:\n",
    "  raise e from RuntimeError(\n",
    "      'Something went wrong during installation. Check the shell output above '\n",
    "      'for more information.\\n'\n",
    "      'If using a hosted Colab runtime, make sure you enable GPU acceleration '\n",
    "      'by going to the Runtime menu and selecting \"Choose runtime type\".')\n",
    "else:\n",
    "  del pixels, suite\n",
    "\n",
    "!echo Installed dm_control $(pip show dm_control | grep -Po \"(?<=Version: ).+\")"
   ]
  },
  {
   "cell_type": "code",
   "execution_count": null,
   "metadata": {
    "id": "8mWLSn4jizNc"
   },
   "outputs": [],
   "source": [
    "import dm_env\n",
    "import numpy as np\n",
    "from dm_control import manipulation, suite\n",
    "from dm_control.suite.wrappers import action_scale, pixels\n",
    "from dm_env import StepType, specs\n",
    "from dm_control import mjcf\n",
    "from dm_control.mjcf import Physics\n",
    "from dm_control.utils import io as resources\n",
    "import matplotlib.pyplot as plt\n",
    "import os"
   ]
  },
  {
   "cell_type": "code",
   "execution_count": null,
   "metadata": {
    "colab": {
     "base_uri": "https://localhost:8080/"
    },
    "executionInfo": {
     "elapsed": 20480,
     "status": "ok",
     "timestamp": 1734286818126,
     "user": {
      "displayName": "Stefano D'Urso",
      "userId": "05929609238362490359"
     },
     "user_tz": -60
    },
    "id": "AsvL-t2BjKn3",
    "outputId": "feefc8d1-7f62-456b-ba80-eced74465f98"
   },
   "outputs": [],
   "source": [
    "from google.colab import drive\n",
    "from pathlib import Path\n",
    "drive.mount('/content/drive')\n",
    "\n",
    "#Path to store file on Google Drive\n",
    "output_dir = \"/content/drive/My Drive/Reinforcement Learning/DRAP\"\n",
    "#output_dir = Path(output_dir)"
   ]
  },
  {
   "cell_type": "code",
   "execution_count": null,
   "metadata": {
    "colab": {
     "base_uri": "https://localhost:8080/"
    },
    "executionInfo": {
     "elapsed": 9,
     "status": "ok",
     "timestamp": 1734286818126,
     "user": {
      "displayName": "Stefano D'Urso",
      "userId": "05929609238362490359"
     },
     "user_tz": -60
    },
    "id": "kwvVoHqSuKlv",
    "outputId": "e2885569-05d5-4dca-ded0-5c9fdde2b485"
   },
   "outputs": [],
   "source": [
    "import random\n",
    "import xml.etree.ElementTree as ET\n",
    "\n",
    "def random_skybox(xml_input_path, xml_output_path, markrgb_limit=255):\n",
    "    \"\"\"\n",
    "    Modify the parameters of the 'texture' node in XML file.\n",
    "\n",
    "    1. Change 'builtin' value with \n",
    "       - \"gradient\": 70% of probability\n",
    "       - \"flat\": 30% of probability\n",
    "    2. Change the value of 'markrgb' as \".a .b .c\", where a, b, c are random integer values.\n",
    "       - The upper bound of these value can be defined by `markrgb_limit`.\n",
    "\n",
    "    Args:\n",
    "        xml_input_path (str): Path of XML input file.\n",
    "        xml_output_path (str): Path of modified XML output file.\n",
    "        markrgb_limit (int): Upper bound for a, b and c.\n",
    "    \"\"\"\n",
    "    #Load XML\n",
    "    tree = ET.parse(xml_input_path)\n",
    "    root = tree.getroot()\n",
    "\n",
    "    #Identify texture node\n",
    "    texture = root.find(\".//texture\")\n",
    "    if texture is None:\n",
    "        raise ValueError(\"The node 'texture' was not founded in the XML file.\")\n",
    "\n",
    "    #Modify builtin with defined probabilities\n",
    "    texture.set(\"builtin\", \"gradient\" if random.random() < 0.6 else \"flat\")\n",
    "\n",
    "    #Random values for 'markrgb'\n",
    "    a = random.randint(0, markrgb_limit)\n",
    "    b = random.randint(0, markrgb_limit)\n",
    "    c = random.randint(0, markrgb_limit)\n",
    "    texture.set(\"markrgb\", f\".{a} .{b} .{c}\")\n",
    "\n",
    "    tree.write(xml_output_path)\n",
    "    #print(f\"Modified XML file saved in: {xml_output_path}\")"
   ]
  },
  {
   "cell_type": "code",
   "execution_count": null,
   "metadata": {
    "colab": {
     "base_uri": "https://localhost:8080/"
    },
    "executionInfo": {
     "elapsed": 6,
     "status": "ok",
     "timestamp": 1734286818126,
     "user": {
      "displayName": "Stefano D'Urso",
      "userId": "05929609238362490359"
     },
     "user_tz": -60
    },
    "id": "cbqjncrx1b4k",
    "outputId": "8cd0a94d-a519-46ed-cdd4-88b911ec010a"
   },
   "outputs": [],
   "source": [
    "import random\n",
    "import xml.etree.ElementTree as ET\n",
    "\n",
    "def random_materials(xml_input_path, xml_output_path, rgb_limit=255):\n",
    "    \"\"\"\n",
    "    Modify the parameters of the 'texture' and 'material nodes in XML file.\n",
    "    \n",
    "    Modifications:\n",
    "    1. 'builtin' in 'texture': random value between \"gradient\", \"flat\", \"checker\".\n",
    "    2. 'rgb1', 'rgb2' e 'markrgb' in 'texture': random value.\n",
    "    3. 'rgba' in ('self', 'decoration', 'effector'): random value.\n",
    "\n",
    "    Args:\n",
    "        xml_input_path (str): Path of XML input file.\n",
    "        xml_output_path (str): Path of modified XML output file.\n",
    "        rgb_limit (int): Upper bound for rgb and rgba (default: 255).\n",
    "    \"\"\"\n",
    "    #Load XML\n",
    "    tree = ET.parse(xml_input_path)\n",
    "    root = tree.getroot()\n",
    "\n",
    "    #Identify texture node\n",
    "    texture = root.find(\".//texture\")\n",
    "    if texture is not None:\n",
    "        # random 'builtin'\n",
    "        texture.set(\"builtin\", random.choices([\"gradient\", \"flat\", \"checker\"],weights=[0.2, 0.5, 0.3])[0])\n",
    "\n",
    "        #Random values for rgb1, rgb2, e markrgb\n",
    "        r1, g1, b1 = [random.randint(0, rgb_limit) for _ in range(3)]\n",
    "        r2, g2, b2 = [random.randint(0, rgb_limit) for _ in range(3)]\n",
    "        mr, mg, mb = [random.randint(0, rgb_limit) for _ in range(3)]\n",
    "\n",
    "        texture.set(\"rgb1\", f\".{r1} .{g1} .{b1}\")\n",
    "        texture.set(\"rgb2\", f\".{r2} .{g2} .{b2}\")\n",
    "        texture.set(\"markrgb\", f\".{mr} .{mg} .{mb}\")\n",
    "    else:\n",
    "        raise ValueError(\"The node 'texture' was not founded in the XML file.\")\n",
    "\n",
    "    #Modify the materials colors\n",
    "    materials_to_modify = [\"self\", \"decoration\", \"effector\"]\n",
    "    for material_name in materials_to_modify:\n",
    "        material = root.find(f\".//material[@name='{material_name}']\")\n",
    "        if material is not None:\n",
    "            #Random values for rgba\n",
    "            r = random.randint(0, rgb_limit)\n",
    "            g = random.randint(0, rgb_limit)\n",
    "            b = random.randint(0, rgb_limit)\n",
    "            a = 1.0  # Keep transparency to 1.0 to avoid unusual transparency \n",
    "            material.set(\"rgba\", f\".{r} .{g} .{b} {a}\")\n",
    "\n",
    "    tree.write(xml_output_path)\n",
    "    #print(f\"Modified XML file saved in: {xml_output_path}\")"
   ]
  },
  {
   "cell_type": "code",
   "execution_count": null,
   "metadata": {
    "colab": {
     "base_uri": "https://localhost:8080/"
    },
    "executionInfo": {
     "elapsed": 5,
     "status": "ok",
     "timestamp": 1734286818127,
     "user": {
      "displayName": "Stefano D'Urso",
      "userId": "05929609238362490359"
     },
     "user_tz": -60
    },
    "id": "hwVHVBEY-Qgs",
    "outputId": "052f7f87-8065-4725-f82a-e359aad334fc"
   },
   "outputs": [],
   "source": [
    "#Set the random initial state \n",
    "def set_random_initial_state(physics):\n",
    "    #qpos shapes\n",
    "    num_positions = physics.data.qpos.shape[0]\n",
    "    num_velocities = physics.data.qvel.shape[0]\n",
    "\n",
    "    #Position and velocity limits\n",
    "    pos_limit_sup = np.array([1.0] * num_positions)\n",
    "    pos_limit_inf = np.array([0.0] * num_positions)\n",
    "    vel_limit = np.array([1.0] * num_velocities)\n",
    "\n",
    "    #Random values for position and velocity\n",
    "    random_pos = np.random.uniform(pos_limit_inf, pos_limit_sup)\n",
    "    random_vel = np.random.uniform(-vel_limit, vel_limit)\n",
    "\n",
    "    #Assign position and velocity\n",
    "    physics.data.qpos[:] = random_pos\n",
    "    physics.data.qvel[:] = random_vel\n",
    "\n",
    "    return random_pos, random_vel\n",
    "\n",
    "#Function to synchronize the initial state in the other 3 physics\n",
    "def sync_initial_state(physics_1, physics_2, physics_3, initial_pos, initial_vel):\n",
    "    physics_1.data.qpos[:] = initial_pos\n",
    "    physics_1.data.qvel[:] = initial_vel\n",
    "\n",
    "    physics_2.data.qpos[:] = initial_pos\n",
    "    physics_2.data.qvel[:] = initial_vel\n",
    "\n",
    "    physics_3.data.qpos[:] = initial_pos\n",
    "    physics_3.data.qvel[:] = initial_vel\n",
    "\n",
    "#Function to apply an action modifying the joints values \n",
    "def apply_action(physics, action):\n",
    "    physics.data.ctrl[:] = action"
   ]
  },
  {
   "cell_type": "code",
   "execution_count": null,
   "metadata": {
    "colab": {
     "base_uri": "https://localhost:8080/"
    },
    "executionInfo": {
     "elapsed": 4,
     "status": "ok",
     "timestamp": 1734286818127,
     "user": {
      "displayName": "Stefano D'Urso",
      "userId": "05929609238362490359"
     },
     "user_tz": -60
    },
    "id": "DByid-wxzQVA",
    "outputId": "dd5e673c-db6f-47c2-8553-4eae3592eaab"
   },
   "outputs": [],
   "source": [
    "#Defining XML files path\n",
    "agent_xml= output_dir + \"/walker/walker.xml\"\n",
    "skybox_xml = output_dir + \"/walker/common/skybox.xml\"\n",
    "materials_xml = output_dir + \"/walker/common/materials.xml\"\n",
    "\n",
    "skybox_xml_random1 = output_dir + \"/walker/common/skybox_random1.xml\"\n",
    "skybox_xml_random2 = output_dir + \"/walker/common/skybox_random2.xml\"\n",
    "skybox_xml_random3 = output_dir + \"/walker/common/skybox_random3.xml\"\n",
    "\n",
    "materials_xml_random1 = output_dir + \"/walker/common/materials_random1.xml\"\n",
    "materials_xml_random2 = output_dir + \"/walker/common/materials_random2.xml\"\n",
    "materials_xml_random3 = output_dir + \"/walker/common/materials_random3.xml\"\n",
    "\n",
    "agent_xml_randomized_1= output_dir + \"/walker/walker1.xml\"\n",
    "agent_xml_randomized_2= output_dir + \"/walker/walker2.xml\"\n",
    "agent_xml_randomized_3= output_dir + \"/walker/walker3.xml\"\n",
    "\n",
    "def create_canonical_randomization():\n",
    "  #Create randomized features\n",
    "  random_skybox(skybox_xml, skybox_xml_random1, markrgb_limit=10)\n",
    "  random_skybox(skybox_xml, skybox_xml_random2, markrgb_limit=10)\n",
    "  random_skybox(skybox_xml, skybox_xml_random3, markrgb_limit=10)\n",
    "  #Create randomized features\n",
    "  random_materials(materials_xml, materials_xml_random1, rgb_limit=100)\n",
    "  random_materials(materials_xml, materials_xml_random2, rgb_limit=100)\n",
    "  random_materials(materials_xml, materials_xml_random3, rgb_limit=100)\n",
    "\n",
    "  #Canonical\n",
    "  mjcf_model = mjcf.from_path(agent_xml)\n",
    "  physics_canon = Physics.from_mjcf_model(mjcf_model)\n",
    "\n",
    "  #randomized 1\n",
    "  mjcf_model = mjcf.from_path(agent_xml_randomized_1)\n",
    "  physics_rd_1 = Physics.from_mjcf_model(mjcf_model)\n",
    "\n",
    "  #randomized 2\n",
    "  mjcf_model = mjcf.from_path(agent_xml_randomized_2)\n",
    "  physics_rd_2 = Physics.from_mjcf_model(mjcf_model)\n",
    "\n",
    "  #randomized 3\n",
    "  mjcf_model = mjcf.from_path(agent_xml_randomized_3)\n",
    "  physics_rd_3 = Physics.from_mjcf_model(mjcf_model)\n",
    "\n",
    "  return physics_canon,physics_rd_1,physics_rd_2, physics_rd_3"
   ]
  },
  {
   "cell_type": "code",
   "execution_count": null,
   "metadata": {
    "colab": {
     "base_uri": "https://localhost:8080/"
    },
    "executionInfo": {
     "elapsed": 3424,
     "status": "ok",
     "timestamp": 1734286877320,
     "user": {
      "displayName": "Stefano D'Urso",
      "userId": "05929609238362490359"
     },
     "user_tz": -60
    },
    "id": "TjO7kc0SlTcO",
    "outputId": "0cc62682-e4e5-4612-b255-e5566a49326a"
   },
   "outputs": [],
   "source": [
    "import os\n",
    "import torch\n",
    "import gc\n",
    "\n",
    "def create_part_dataset(total_sequence, n):\n",
    "  sequences_per_randomization = 1000 \n",
    "  steps_between_randomization = 1000   #To simulate one environment step\n",
    "  sampling_interval = 5\n",
    "  sequence_count = 0\n",
    "  sequence_length = 4  # 3 images + 1 next target \n",
    "\n",
    "  #dataset_dir = os.path.join(output_dir, \"dataset/finger\")\n",
    "  dataset_dir = os.path.join(output_dir, \"dataset/walker\")\n",
    "  os.makedirs(dataset_dir, exist_ok=True)\n",
    "\n",
    "  final_dataset = []\n",
    "\n",
    "  while sequence_count < total_sequence:\n",
    "\n",
    "    #New randomization every 'sequences_per_randomization'\n",
    "    if sequence_count % sequences_per_randomization == 0:\n",
    "      physics_canon,physics_rd_1,physics_rd_2, physics_rd_3 = create_canonical_randomization()\n",
    "      print(f\"New randomizations generated at step {sequence_count}.\")\n",
    "\n",
    "\n",
    "    initial_pos, initial_vel = set_random_initial_state(physics_canon)\n",
    "    #Sync initial state\n",
    "    sync_initial_state(physics_rd_1,physics_rd_2,physics_rd_3, initial_pos, initial_vel)\n",
    "\n",
    "    #Simulate for 1000 steps\n",
    "    for step in range(steps_between_randomization):\n",
    "\n",
    "      phi = np.random.uniform(0, np.pi)\n",
    "      a = np.random.randint(1,70)\n",
    "      b = np.random.randint(1,50)\n",
    "      action = [np.cos(phi)*a, -np.cos(phi)*a, np.cos(phi)*a, np.cos(phi)*b, -np.cos(phi)*b, -np.cos(phi)*b]\n",
    "\n",
    "      apply_action(physics_canon, action)\n",
    "      apply_action(physics_rd_1, action)\n",
    "      apply_action(physics_rd_2, action)\n",
    "      apply_action(physics_rd_3, action)\n",
    "\n",
    "      physics_canon.step()\n",
    "      physics_rd_1.step()\n",
    "      physics_rd_2.step()\n",
    "      physics_rd_3.step()\n",
    "\n",
    "      #Sample the sequence\n",
    "      if step % sampling_interval == 0:\n",
    "        images_canon, images_rd_1, images_rd_2, images_rd_3, actions = [], [], [], [], []\n",
    "\n",
    "        x=0\n",
    "        for i in range(sequence_length - 1):\n",
    "          images_canon.append(physics_canon.render(height=84, width=84, camera_id=0))\n",
    "          images_rd_1.append(physics_rd_1.render(height=84, width=84, camera_id=0))\n",
    "          images_rd_2.append(physics_rd_2.render(height=84, width=84, camera_id=0))\n",
    "          images_rd_3.append(physics_rd_3.render(height=84, width=84, camera_id=0))\n",
    "\n",
    "          phi = np.random.uniform(0, np.pi)\n",
    "          a = np.random.randint(1,70)\n",
    "          b = np.random.randint(1,50)\n",
    "          action = [np.cos(phi)*a, -np.cos(phi)*a, np.cos(phi)*a, np.cos(phi)*b, -np.cos(phi)*b, -np.cos(phi)*b]\n",
    "\n",
    "          actions.append(action)\n",
    "\n",
    "          apply_action(physics_canon, action)\n",
    "          apply_action(physics_rd_1, action)\n",
    "          apply_action(physics_rd_2, action)\n",
    "          apply_action(physics_rd_3, action)\n",
    "\n",
    "          physics_canon.step()\n",
    "          physics_rd_1.step()\n",
    "          physics_rd_2.step()\n",
    "          physics_rd_3.step()\n",
    "\n",
    "        images_combined = []\n",
    "        for i in range(len(images_rd_1)):\n",
    "          random_choice = random.choice([images_rd_1, images_rd_2, images_rd_3])\n",
    "          images_combined.append(random_choice[i])\n",
    "\n",
    "\n",
    "        img_canon_future = physics_canon.render(height=84, width=84, camera_id=0)\n",
    "\n",
    "        #Save sequence informations\n",
    "        sequence_data = {\n",
    "            \"canonical\": images_canon,           # Canonical sequence [t-2, t-1, t0]\n",
    "            \"randomized\": images_combined,       # Random sequence [t-2, t-1, t0]\n",
    "            \"actions\": actions,                  # Actions [a-2, a-1, a0]\n",
    "            \"future_canon\": img_canon_future     # Future canon image (t+1)\n",
    "        }\n",
    "\n",
    "        final_dataset.append(sequence_data)\n",
    "\n",
    "        del sequence_data\n",
    "        gc.collect()\n",
    "\n",
    "        sequence_count += 1\n",
    "        #print(f\"Sequence {sequence_count}/{total_sequence} saved.\")\n",
    "\n",
    "        if sequence_count >= total_sequence:\n",
    "                  break\n",
    "\n",
    "  print(\"Sequences collected!\")\n",
    "\n",
    "  num = \"dataset_sequences_\" + n + \".pt\"\n",
    "  dataset_path = os.path.join(dataset_dir, num)\n",
    "  torch.save(final_dataset, dataset_path)\n",
    "  print(f\"Dataset with {len(final_dataset)} sequences saved in {dataset_path}\")\n",
    "  del final_dataset\n",
    "  gc.collect()"
   ]
  },
  {
   "cell_type": "code",
   "execution_count": null,
   "metadata": {
    "colab": {
     "base_uri": "https://localhost:8080/"
    },
    "executionInfo": {
     "elapsed": 4093723,
     "status": "ok",
     "timestamp": 1734291015338,
     "user": {
      "displayName": "Stefano D'Urso",
      "userId": "05929609238362490359"
     },
     "user_tz": -60
    },
    "id": "9fsTmRbS0dhu",
    "outputId": "14ca82e6-08d4-4bdc-e749-78d9be39ae18"
   },
   "outputs": [],
   "source": [
    "total_sequence = 25000   # -> 100,000 environment steps\n",
    "part_sequence = total_sequence/4  #To deal with Colab memory restrictions\n",
    "create_part_dataset(part_sequence, \"1\")\n",
    "create_part_dataset(part_sequence, \"2\")\n",
    "create_part_dataset(part_sequence, \"3\")\n",
    "create_part_dataset(part_sequence, \"4\")"
   ]
  },
  {
   "cell_type": "markdown",
   "metadata": {
    "id": "sDGLIAn72uXP"
   },
   "source": [
    "## MuJoCO Tests"
   ]
  },
  {
   "cell_type": "code",
   "execution_count": null,
   "metadata": {
    "collapsed": true,
    "id": "-H9QTQDmi5qs"
   },
   "outputs": [],
   "source": [
    "agent_xml= output_dir + \"/walker/walker.xml\"\n",
    "\n",
    "#Randomize skybox\n",
    "skybox_xml = output_dir + \"/walker/common/skybox.xml\"\n",
    "skybox_xml_random = output_dir + \"/walker/common/skybox_random.xml\"\n",
    "random_skybox(skybox_xml, skybox_xml_random, markrgb_limit=10)\n",
    "\n",
    "#Randomize materials\n",
    "materials_xml = output_dir + \"/walker/common/materials.xml\"\n",
    "materials_xml_random = output_dir + \"/walker/common/materials_random.xml\"\n",
    "random_materials(materials_xml, materials_xml_random, rgb_limit=100)\n",
    "\n",
    "\n",
    "mjcf_model = mjcf.from_path(agent_xml)\n",
    "\n",
    "#Initialize simulator\n",
    "physics = Physics.from_mjcf_model(mjcf_model)\n",
    "\n",
    "#Set random initial state\n",
    "initial_pos, initial_vel = set_random_initial_state(physics)\n",
    "#sync_initial_state(physics, initial_pos, initial_vel)\n",
    "#sync_initial_state(physics2, initial_pos, initial_vel)\n",
    "\n",
    "#Show the frames\n",
    "def plot_frame(physics):\n",
    "    img = physics.render(height=256, width=256, camera_id=0)\n",
    "    plt.imshow(img)\n",
    "    plt.axis(\"off\")\n",
    "    plt.show()\n",
    "\n",
    "#Function to apply an action\n",
    "def apply_action(physics, action):\n",
    "    # Imposta l'azione sui controlli\n",
    "    physics.data.ctrl[:] = action\n",
    "\n",
    "#Simulate some steps\n",
    "for step in range(5):\n",
    "    phi = np.random.uniform(0, np.pi)\n",
    "    action = [np.cos(phi), -np.cos(phi), np.cos(phi), np.cos(phi), -np.cos(phi), -np.cos(phi)]\n",
    "    apply_action(physics, action)\n",
    "    physics.step()\n",
    "    plot_frame(physics)\n",
    "    print(physics.model.camera(0).pos[:])\n",
    "    print(\"Sensor data:\", physics.data.sensordata)"
   ]
  }
 ],
 "metadata": {
  "accelerator": "GPU",
  "colab": {
   "collapsed_sections": [
    "sDGLIAn72uXP"
   ],
   "gpuType": "T4",
   "provenance": []
  },
  "kernelspec": {
   "display_name": "Python 3",
   "name": "python3"
  },
  "language_info": {
   "name": "python"
  }
 },
 "nbformat": 4,
 "nbformat_minor": 0
}
